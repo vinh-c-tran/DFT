{
 "cells": [
  {
   "cell_type": "markdown",
   "id": "571a31ab",
   "metadata": {},
   "source": [
    "# Problem 1: Convergence of Absolute Energies with Respect to Cutoff Energies\n",
    "1. Using the Quantum ESPRESSO PWscf package, calculate the energy of Ge in the diamond structure as a function of plane-wave cutoff energy. A good range to try is 5- 80 Ry, doing calculations at increments of 5 Ry. When changing the cutoff, make sure to keep the other variables (lattice constant, k-points, etc) fixed and to record them. Record and plot your final results. Specify when you reach the level of convergence of around 5 meV/atom (convert this to Ry/atom). Note that the code calculates energy per primitive cell.\n",
    "\n",
    "2. Do you see a trend in your calculated energies and calculation time with respect to the cutoff? Is this what you expect and why?\n",
    "\n",
    "3. In Problem Set 1, we used a cubic unit cell. Here, we use the primitive cell. What are the advantages and disadvantages of both methods?\n"
   ]
  },
  {
   "cell_type": "code",
   "execution_count": 1,
   "id": "867606d7",
   "metadata": {},
   "outputs": [],
   "source": [
    "import subprocess"
   ]
  },
  {
   "cell_type": "markdown",
   "id": "3b12268c",
   "metadata": {},
   "source": [
    "### Functions for automating Quantum Espresso calls"
   ]
  },
  {
   "cell_type": "code",
   "execution_count": 13,
   "id": "a2f26c4a",
   "metadata": {},
   "outputs": [],
   "source": [
    "def file_name(element_name):\n",
    "    if (type(element_name) != str):\n",
    "        return \"Error: Please enter a valid element name string\"\n",
    "    return element_name + '.scf.in' "
   ]
  },
  {
   "cell_type": "code",
   "execution_count": 63,
   "id": "d409a9f1",
   "metadata": {},
   "outputs": [],
   "source": [
    "def control(file_object, prefix, pseudo_dir = '.', outdir = '.'):\n",
    "    \n",
    "    # prefix line \n",
    "    file_object.write('&control\\n')\n",
    "    prefix_line = '    prefix = ' + \"'\" + prefix + \"',\"\n",
    "    file_object.write(prefix_line + \"\\n\")\n",
    "    \n",
    "    # pseudo dir line \n",
    "    pseudo_dir_line = '    pseudo_dir = ' + \"'\" + pseudo_dir + \"',\"\n",
    "    file_object.write(pseudo_dir_line + \"\\n\")\n",
    "    \n",
    "    # \n",
    "    outdir_line = '    outdir = ' + \"'\" + outdir + \"',\"\n",
    "    file_object.write(outdir_line + \"\\n\" + '/')\n",
    "    file_object.write('\\n')    "
   ]
  },
  {
   "cell_type": "code",
   "execution_count": 119,
   "id": "4a3f0f35",
   "metadata": {},
   "outputs": [],
   "source": [
    "def system(file_object, ibrav, celldm_num, celldm, nat, ntyp, metal = 'no', ecutwfc = 20.0):\n",
    "    # system\n",
    "    file_object.write('&system\\n')\n",
    "    file_object.write('    ibrav = ' + str(ibrav) + ',\\n')\n",
    "    file_object.write('    celldm(' + str(celldm_num) + ') = ' + str(celldm) + ',\\n')\n",
    "    file_object.write('    nat = ' + str(nat) + ',\\n')\n",
    "    file_object.write('    ntyp = ' + str(ntyp) + ',\\n')\n",
    "    \n",
    "    file_object.write('    occupations = ' + \" 'smearing', \" + ',\\n')\n",
    "    file_object.write('    smearing = ' + \"'mp',\" + 'degauss = 0.06')\n",
    "    \n",
    "    file_object.write('    ecutwfc = ' + str(ecutwfc) + ',\\n')\n",
    "    \n",
    "    file_object.write('/' + '\\n')"
   ]
  },
  {
   "cell_type": "code",
   "execution_count": 113,
   "id": "1657c9b7",
   "metadata": {},
   "outputs": [],
   "source": [
    "def electrons(file_object):\n",
    "    file_object.write('&electrons\\n')\n",
    "    file_object.write('/' + '\\n')"
   ]
  },
  {
   "cell_type": "code",
   "execution_count": 107,
   "id": "02088521",
   "metadata": {},
   "outputs": [],
   "source": [
    "def atomic_species(file_object, species, mass, pseudo_pot):\n",
    "    \"\"\" extend functionality later \"\"\"\n",
    "    file_object.write('ATOMIC_SPECIES\\n')\n",
    "    file_object.write(' ' + species)\n",
    "    file_object.write(' ' + str(mass))\n",
    "    file_object.write(' ' + pseudo_pot + '\\n')"
   ]
  },
  {
   "cell_type": "code",
   "execution_count": 116,
   "id": "396336b5",
   "metadata": {},
   "outputs": [],
   "source": [
    "def atomic_positions(file_object, dicti):\n",
    "    \"\"\" need to link to ase later \n",
    "        accepts a dict: {species: location}\n",
    "    \"\"\"\n",
    "    file_object.write('ATOMIC POSITIONS\\n')\n",
    "    for species in dicti:\n",
    "        file_object.write(\" \" + species + \" \" + dicti[species] + \"\\n\")"
   ]
  },
  {
   "cell_type": "code",
   "execution_count": 104,
   "id": "61fd59dc",
   "metadata": {},
   "outputs": [],
   "source": [
    "def k_points(file_object, k_points, offset = 0):\n",
    "    file_object.write('K_POINTS\\n')\n",
    "    k_points = str(k_points)\n",
    "    if (offset == 0):\n",
    "        file_object.write(' ' + k_points + ' ' + k_points + ' ' + k_points + ' 0 0 0' + \"\\n\")\n",
    "    else:\n",
    "        file_object.write(' ' + k_points + ' ' + k_points + ' ' + k_points + ' 1 1 1' + \"\\n\")"
   ]
  },
  {
   "cell_type": "code",
   "execution_count": 117,
   "id": "691f8140",
   "metadata": {},
   "outputs": [],
   "source": [
    "def file_write(element_name):\n",
    "    name = file_name(element_name[0] + element_name[1])\n",
    "    f = open(name, 'w')\n",
    "    \n",
    "    control(f, element_name)\n",
    "    system(f, 2, 1, 6.8, 1, 1)\n",
    "    electrons(f)\n",
    "    atomic_species(f, element_name[0] + element_name[1], 65.0, 'Cu.pbesol-dn-kjpaw_psl.1.0.0.UPF')\n",
    "    \n",
    "    struct = {\n",
    "                'Cu': '0.00 0.00 0.00'\n",
    "    }\n",
    "    atomic_positions(f, struct)\n",
    "    k_points(f, 8)\n",
    "    \n",
    "    f.close()"
   ]
  },
  {
   "cell_type": "code",
   "execution_count": 118,
   "id": "99780dd5",
   "metadata": {},
   "outputs": [],
   "source": [
    "file_write('carbon')"
   ]
  },
  {
   "cell_type": "code",
   "execution_count": null,
   "id": "87db437d",
   "metadata": {},
   "outputs": [],
   "source": []
  }
 ],
 "metadata": {
  "kernelspec": {
   "display_name": "Python 3 (ipykernel)",
   "language": "python",
   "name": "python3"
  },
  "language_info": {
   "codemirror_mode": {
    "name": "ipython",
    "version": 3
   },
   "file_extension": ".py",
   "mimetype": "text/x-python",
   "name": "python",
   "nbconvert_exporter": "python",
   "pygments_lexer": "ipython3",
   "version": "3.9.7"
  }
 },
 "nbformat": 4,
 "nbformat_minor": 5
}
