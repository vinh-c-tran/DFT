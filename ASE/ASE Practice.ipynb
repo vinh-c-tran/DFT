{
 "cells": [
  {
   "cell_type": "code",
   "execution_count": 1,
   "id": "1ef533a4",
   "metadata": {},
   "outputs": [],
   "source": [
    "from ase.build import fcc111"
   ]
  },
  {
   "cell_type": "code",
   "execution_count": 2,
   "id": "5c4201c3",
   "metadata": {},
   "outputs": [],
   "source": [
    "slab = fcc111('Al', size = (2,2,3), vacuum = 10.0)"
   ]
  },
  {
   "cell_type": "code",
   "execution_count": 3,
   "id": "a0915290",
   "metadata": {},
   "outputs": [],
   "source": [
    "from ase.visualize import view"
   ]
  },
  {
   "cell_type": "code",
   "execution_count": 7,
   "id": "dae9e4e1",
   "metadata": {},
   "outputs": [],
   "source": [
    "from ase.io import write"
   ]
  },
  {
   "cell_type": "code",
   "execution_count": 8,
   "id": "909c7444",
   "metadata": {},
   "outputs": [],
   "source": [
    "write('al.cif', slab)"
   ]
  },
  {
   "cell_type": "code",
   "execution_count": 9,
   "id": "cfc5d075",
   "metadata": {},
   "outputs": [
    {
     "data": {
      "text/plain": [
       "Atoms(symbols='Al12', pbc=[True, True, False], cell=[[5.727564927611035, 0.0, 0.0], [2.8637824638055176, 4.960216729135935, 0.0], [0.0, 0.0, 24.676537180435968]], tags=...)"
      ]
     },
     "execution_count": 9,
     "metadata": {},
     "output_type": "execute_result"
    }
   ],
   "source": [
    "slab"
   ]
  },
  {
   "cell_type": "code",
   "execution_count": 10,
   "id": "db77a36c",
   "metadata": {},
   "outputs": [
    {
     "data": {
      "text/plain": [
       "Cell([[5.727564927611035, 0.0, 0.0], [2.8637824638055176, 4.960216729135935, 0.0], [0.0, 0.0, 24.676537180435968]])"
      ]
     },
     "execution_count": 10,
     "metadata": {},
     "output_type": "execute_result"
    }
   ],
   "source": [
    "slab.cell"
   ]
  },
  {
   "cell_type": "code",
   "execution_count": 11,
   "id": "5acd54f9",
   "metadata": {},
   "outputs": [
    {
     "data": {
      "text/plain": [
       "ase.atoms.Atoms"
      ]
     },
     "execution_count": 11,
     "metadata": {},
     "output_type": "execute_result"
    }
   ],
   "source": [
    "type(slab)"
   ]
  },
  {
   "cell_type": "code",
   "execution_count": 12,
   "id": "5361b273",
   "metadata": {},
   "outputs": [
    {
     "data": {
      "text/plain": [
       "array([[ 1.43189123,  0.82670279, 10.        ],\n",
       "       [ 4.2956737 ,  0.82670279, 10.        ],\n",
       "       [ 2.86378246,  3.30681115, 10.        ],\n",
       "       [ 5.72756493,  3.30681115, 10.        ],\n",
       "       [ 0.        ,  1.65340558, 12.33826859],\n",
       "       [ 2.86378246,  1.65340558, 12.33826859],\n",
       "       [ 1.43189123,  4.13351394, 12.33826859],\n",
       "       [ 4.2956737 ,  4.13351394, 12.33826859],\n",
       "       [ 0.        ,  0.        , 14.67653718],\n",
       "       [ 2.86378246,  0.        , 14.67653718],\n",
       "       [ 1.43189123,  2.48010836, 14.67653718],\n",
       "       [ 4.2956737 ,  2.48010836, 14.67653718]])"
      ]
     },
     "execution_count": 12,
     "metadata": {},
     "output_type": "execute_result"
    }
   ],
   "source": [
    "slab.positions"
   ]
  },
  {
   "cell_type": "code",
   "execution_count": 14,
   "id": "feca85bd",
   "metadata": {},
   "outputs": [
    {
     "data": {
      "text/plain": [
       "array([[ 5.72756493,  0.        ,  0.        ],\n",
       "       [ 2.86378246,  4.96021673,  0.        ],\n",
       "       [ 0.        ,  0.        , 24.67653718]])"
      ]
     },
     "execution_count": 14,
     "metadata": {},
     "output_type": "execute_result"
    }
   ],
   "source": [
    "slab.cell[:]"
   ]
  },
  {
   "cell_type": "code",
   "execution_count": 17,
   "id": "4737d5af",
   "metadata": {},
   "outputs": [
    {
     "data": {
      "text/plain": [
       "array([[0.16666667, 0.16666667, 0.40524324],\n",
       "       [0.66666667, 0.16666667, 0.40524324],\n",
       "       [0.16666667, 0.66666667, 0.40524324],\n",
       "       [0.66666667, 0.66666667, 0.40524324],\n",
       "       [0.83333333, 0.33333333, 0.5       ],\n",
       "       [0.33333333, 0.33333333, 0.5       ],\n",
       "       [0.83333333, 0.83333333, 0.5       ],\n",
       "       [0.33333333, 0.83333333, 0.5       ],\n",
       "       [0.        , 0.        , 0.59475676],\n",
       "       [0.5       , 0.        , 0.59475676],\n",
       "       [0.        , 0.5       , 0.59475676],\n",
       "       [0.5       , 0.5       , 0.59475676]])"
      ]
     },
     "execution_count": 17,
     "metadata": {},
     "output_type": "execute_result"
    }
   ],
   "source": [
    "slab.get_scaled_positions()"
   ]
  },
  {
   "cell_type": "code",
   "execution_count": 19,
   "id": "b743632b",
   "metadata": {},
   "outputs": [
    {
     "data": {
      "text/plain": [
       "['Al', 'Al', 'Al', 'Al', 'Al', 'Al', 'Al', 'Al', 'Al', 'Al', 'Al', 'Al']"
      ]
     },
     "execution_count": 19,
     "metadata": {},
     "output_type": "execute_result"
    }
   ],
   "source": [
    "slab.get_chemical_symbols()"
   ]
  },
  {
   "cell_type": "code",
   "execution_count": 42,
   "id": "39465424",
   "metadata": {},
   "outputs": [],
   "source": [
    "def atomic_positions(file, slab):\n",
    "    file.write('ATOMIC_POSITIONS (crystal) \\n')\n",
    "    \n",
    "    names = slab.get_chemical_symbols()\n",
    "    positions = slab.get_scaled_positions() \n",
    "    \n",
    "    for i in range(len(names)):\n",
    "        str_positions = \"\"\n",
    "        for j in range(3):\n",
    "            str_positions += str(positions[i][j]) + \" \"\n",
    "        \n",
    "        file.write(\" \" + names[i] + \" \" + str_positions + \"\\n\")"
   ]
  },
  {
   "cell_type": "code",
   "execution_count": 43,
   "id": "dbd7561b",
   "metadata": {},
   "outputs": [],
   "source": [
    "f = open('test.txt', 'w')\n",
    "\n",
    "atomic_positions(f, slab)\n",
    "\n",
    "f.close()"
   ]
  },
  {
   "cell_type": "code",
   "execution_count": 48,
   "id": "1b7111ea",
   "metadata": {},
   "outputs": [],
   "source": [
    "A=slab.get_cell()[:]"
   ]
  },
  {
   "cell_type": "code",
   "execution_count": 49,
   "id": "665be446",
   "metadata": {},
   "outputs": [
    {
     "data": {
      "text/plain": [
       "array([5.72756493, 0.        , 0.        ])"
      ]
     },
     "execution_count": 49,
     "metadata": {},
     "output_type": "execute_result"
    }
   ],
   "source": [
    "A[0]"
   ]
  },
  {
   "cell_type": "code",
   "execution_count": 50,
   "id": "943af2a0",
   "metadata": {},
   "outputs": [],
   "source": [
    "def crystal_parameters(file, slab):\n",
    "    file.write('CRYSTAL_PARAMETERS (alat)\\n')\n",
    "    \n",
    "    cell = slab.get_cell()[:]\n",
    "    \n",
    "    for i in range(3):\n",
    "        str_lattice = \"\"\n",
    "        for j in range(3):\n",
    "            str_lattice += str(cell[i][j]) + \" \"\n",
    "        \n",
    "        file.write(\" \" + str_lattice + \"\\n\")"
   ]
  },
  {
   "cell_type": "code",
   "execution_count": 51,
   "id": "de07aacf",
   "metadata": {},
   "outputs": [],
   "source": [
    "f = open('test.txt', 'w')\n",
    "\n",
    "crystal_parameters(f, slab)\n",
    "\n",
    "f.close()"
   ]
  },
  {
   "cell_type": "markdown",
   "id": "51d16b62",
   "metadata": {},
   "source": [
    "# Platinum (100)"
   ]
  },
  {
   "cell_type": "code",
   "execution_count": 55,
   "id": "da6bdb69",
   "metadata": {},
   "outputs": [],
   "source": [
    "pt_slab = fcc111('Pt', size = (2,2,3), vacuum = 10.0)"
   ]
  },
  {
   "cell_type": "code",
   "execution_count": 54,
   "id": "312bab95",
   "metadata": {},
   "outputs": [],
   "source": [
    "plat = open('pt.relax.in', 'w')"
   ]
  },
  {
   "cell_type": "code",
   "execution_count": 56,
   "id": "d2f17ef7",
   "metadata": {},
   "outputs": [],
   "source": [
    "atomic_positions(plat, pt_slab)"
   ]
  },
  {
   "cell_type": "code",
   "execution_count": 57,
   "id": "c4271bad",
   "metadata": {},
   "outputs": [],
   "source": [
    "crystal_parameters(plat, pt_slab)"
   ]
  },
  {
   "cell_type": "code",
   "execution_count": 58,
   "id": "3c6de8cd",
   "metadata": {},
   "outputs": [],
   "source": [
    "plat.close()"
   ]
  },
  {
   "cell_type": "code",
   "execution_count": 59,
   "id": "ea7d4da6",
   "metadata": {},
   "outputs": [],
   "source": [
    "write('pt.cif', pt_slab)"
   ]
  },
  {
   "cell_type": "code",
   "execution_count": 66,
   "id": "ec9ab7c3",
   "metadata": {},
   "outputs": [],
   "source": [
    "pt_slab = fcc111('Pt', size = (2,2,1), vacuum = 10.0)"
   ]
  },
  {
   "cell_type": "code",
   "execution_count": 67,
   "id": "eecb8e89",
   "metadata": {},
   "outputs": [],
   "source": [
    "write('pt.cif', pt_slab)"
   ]
  },
  {
   "cell_type": "code",
   "execution_count": null,
   "id": "a454fb5a",
   "metadata": {},
   "outputs": [],
   "source": []
  },
  {
   "cell_type": "markdown",
   "id": "d4890c40",
   "metadata": {},
   "source": [
    "# ASE Tutorials"
   ]
  },
  {
   "cell_type": "markdown",
   "id": "755693e4",
   "metadata": {},
   "source": [
    "## Introduction: Nitrogen on Copper"
   ]
  },
  {
   "cell_type": "code",
   "execution_count": 2,
   "id": "b4900bf4",
   "metadata": {},
   "outputs": [],
   "source": [
    "from ase import Atoms\n",
    "from ase.calculators.emt import EMT\n",
    "from ase.constraints import FixAtoms\n",
    "from ase.optimize import QuasiNewton\n",
    "from ase.build import fcc111, add_adsorbate"
   ]
  },
  {
   "cell_type": "markdown",
   "id": "88798512",
   "metadata": {},
   "source": [
    "### Atoms\n",
    "Atoms object is a collection of atoms. We can define molecules/structures by specifying the position of two atoms (nitrogen atoms). "
   ]
  },
  {
   "cell_type": "code",
   "execution_count": 4,
   "id": "831357ae",
   "metadata": {},
   "outputs": [],
   "source": [
    "from ase import Atoms"
   ]
  },
  {
   "cell_type": "code",
   "execution_count": 5,
   "id": "5a2365a7",
   "metadata": {},
   "outputs": [],
   "source": [
    "d = 1.10 \n",
    "molecule = Atoms('2N', positions = [(0.0, 0.0, 0.0), (0.0, 0.0, d)])"
   ]
  },
  {
   "cell_type": "markdown",
   "id": "e8730371",
   "metadata": {},
   "source": [
    "#### Can also build crystals using lattice module with common structures"
   ]
  },
  {
   "cell_type": "code",
   "execution_count": 6,
   "id": "1f08c7a3",
   "metadata": {},
   "outputs": [],
   "source": [
    "from ase.build import fcc111\n",
    "# fcc111 builds a fcc111 structures"
   ]
  },
  {
   "cell_type": "code",
   "execution_count": 7,
   "id": "7590b32c",
   "metadata": {},
   "outputs": [],
   "source": [
    "slab = fcc111('Cu', size = (4,4,2), vacuum = 10.0)"
   ]
  },
  {
   "cell_type": "markdown",
   "id": "906898e5",
   "metadata": {},
   "source": [
    "### Including a Calculator\n",
    "- Attach a calculator to an atom object\n",
    "- Each atoms object has a `calc` attribute that we can set equal to a calculator such as EMT\n",
    "- Then we can calculate the total energy using the `get_potential_energy()` method from the atoms class"
   ]
  },
  {
   "cell_type": "code",
   "execution_count": 8,
   "id": "752b4064",
   "metadata": {},
   "outputs": [],
   "source": [
    "from ase.calculators.emt import EMT"
   ]
  },
  {
   "cell_type": "code",
   "execution_count": 9,
   "id": "c5689758",
   "metadata": {},
   "outputs": [],
   "source": [
    "slab.calc = EMT()\n",
    "molecule.calc = EMT()"
   ]
  },
  {
   "cell_type": "code",
   "execution_count": 10,
   "id": "263e2a97",
   "metadata": {},
   "outputs": [],
   "source": [
    "energy_slab = slab.get_potential_energy()"
   ]
  },
  {
   "cell_type": "code",
   "execution_count": 11,
   "id": "9dbece29",
   "metadata": {},
   "outputs": [],
   "source": [
    "energy_N2 = molecule.get_potential_energy()"
   ]
  },
  {
   "cell_type": "markdown",
   "id": "fd7c527b",
   "metadata": {},
   "source": [
    "### Structure Relaxation\n",
    "1. We can consider the structure of N2 absorbed onto a Cu surface. \n",
    "    - We start by adding the absorbate to the slab (on top) \n",
    "    - Keep the Cu atoms fixed using `FixAtoms` from the `constraints` module. So we only allow for the N2 molecule to relax during the relaxation routine.\n",
    "        - This involves defining a constraint and then adding the constraint to the structure\n",
    "    - Add the `QuasiNewton` minimizer to the system and save the trajectory file. Then we run the minimizer with a constraint that `fmax = 0.05`"
   ]
  },
  {
   "cell_type": "code",
   "execution_count": 13,
   "id": "e1f53d3a",
   "metadata": {},
   "outputs": [],
   "source": [
    "h = 1.85\n",
    "add_adsorbate(slab, molecule, h, 'ontop')"
   ]
  },
  {
   "cell_type": "code",
   "execution_count": 15,
   "id": "c8be0622",
   "metadata": {},
   "outputs": [],
   "source": [
    "from ase.constraints import FixAtoms\n",
    "\n",
    "# we define a constraint variable/object using FixAtoms and the condition\n",
    "# that atom symbols that are not nitrogen are held in place \n",
    "\n",
    "constraint = FixAtoms(mask = [a.symbol != 'N' for a in slab])\n",
    "\n",
    "# then to the slab we add the constraint \n",
    "slab.set_constraint(constraint)"
   ]
  },
  {
   "cell_type": "code",
   "execution_count": 16,
   "id": "ea9ae279",
   "metadata": {},
   "outputs": [],
   "source": [
    "from ase.optimize import QuasiNewton"
   ]
  },
  {
   "cell_type": "code",
   "execution_count": 17,
   "id": "e7337335",
   "metadata": {},
   "outputs": [],
   "source": [
    "dyn = QuasiNewton(slab, trajectory = 'N2Cu.traj')"
   ]
  },
  {
   "cell_type": "code",
   "execution_count": 20,
   "id": "f9da0306",
   "metadata": {},
   "outputs": [
    {
     "name": "stdout",
     "output_type": "stream",
     "text": [
      "BFGSLineSearch:    3[  6] 08:20:04       11.625228*       0.0309\n",
      "BFGSLineSearch:    4[  7] 08:20:04       11.625212*       0.0039\n",
      "BFGSLineSearch:    5[  8] 08:20:04       11.625212*       0.0000\n"
     ]
    },
    {
     "data": {
      "text/plain": [
       "True"
      ]
     },
     "execution_count": 20,
     "metadata": {},
     "output_type": "execute_result"
    }
   ],
   "source": [
    "dyn.run(fmax = 0.0005)"
   ]
  },
  {
   "cell_type": "markdown",
   "id": "0e0e159d",
   "metadata": {},
   "source": [
    "## Input-Output"
   ]
  },
  {
   "cell_type": "markdown",
   "id": "8dec91cb",
   "metadata": {},
   "source": [
    "### Writing atomic positions out to a file\n",
    "We can use the write function to write out file. In particular, from this, we can generate a quantum espresso input file with the cell structure already filled in which would be super convenient for us. For instance, if we call the following... "
   ]
  },
  {
   "cell_type": "code",
   "execution_count": 24,
   "id": "803d9aed",
   "metadata": {},
   "outputs": [],
   "source": [
    "from ase.io import write\n",
    "write('slab.espresso-in', slab)"
   ]
  },
  {
   "cell_type": "markdown",
   "id": "4a79c42b",
   "metadata": {},
   "source": [
    "We end up with the following output file. So for our use case, we can\n",
    "1. Generate a structure in ASE and check if it's correct via built in visualizer or by generating a `.cif` file and passing it to VESTA. \n",
    "2. Once verified, we can then generate a quantum espresso `.in` file to then use "
   ]
  },
  {
   "cell_type": "markdown",
   "id": "e2b3b0f6",
   "metadata": {},
   "source": [
    "```Fortran\n",
    "&CONTROL\n",
    "/\n",
    "&SYSTEM\n",
    "   ntyp             = 2\n",
    "   nat              = 34\n",
    "   ibrav            = 0\n",
    "/\n",
    "&ELECTRONS\n",
    "/\n",
    "&IONS\n",
    "/\n",
    "&CELL\n",
    "/\n",
    "\n",
    "ATOMIC_SPECIES\n",
    "Cu 63.546 None\n",
    "N 14.007 None\n",
    "\n",
    "K_POINTS gamma\n",
    "\n",
    "CELL_PARAMETERS angstrom\n",
    "10.21062192033375 0.00000000000000 0.00000000000000\n",
    "5.10531096016687 8.84265797144727 0.00000000000000\n",
    "0.00000000000000 0.00000000000000 22.08423447177455\n",
    "\n",
    "ATOMIC_POSITIONS angstrom\n",
    "Cu 0.0000000000 1.4737763286 10.0000000000  0 0 0\n",
    "Cu 2.5526554801 1.4737763286 10.0000000000  0 0 0\n",
    "Cu 5.1053109602 1.4737763286 10.0000000000  0 0 0\n",
    "Cu 7.6579664403 1.4737763286 10.0000000000  0 0 0\n",
    "Cu 1.2763277400 3.6844408214 10.0000000000  0 0 0\n",
    "Cu 3.8289832201 3.6844408214 10.0000000000  0 0 0\n",
    "Cu 6.3816387002 3.6844408214 10.0000000000  0 0 0\n",
    "Cu 8.9342941803 3.6844408214 10.0000000000  0 0 0\n",
    "Cu 2.5526554801 5.8951053143 10.0000000000  0 0 0\n",
    "Cu 5.1053109602 5.8951053143 10.0000000000  0 0 0\n",
    "Cu 7.6579664403 5.8951053143 10.0000000000  0 0 0\n",
    "Cu 10.2106219203 5.8951053143 10.0000000000  0 0 0\n",
    "Cu 3.8289832201 8.1057698072 10.0000000000  0 0 0\n",
    "Cu 6.3816387002 8.1057698072 10.0000000000  0 0 0\n",
    "Cu 8.9342941803 8.1057698072 10.0000000000  0 0 0\n",
    "Cu 11.4869496604 8.1057698072 10.0000000000  0 0 0\n",
    "Cu 0.0000000000 0.0000000000 12.0842344718  0 0 0\n",
    "Cu 2.5526554801 0.0000000000 12.0842344718  0 0 0\n",
    "Cu 5.1053109602 0.0000000000 12.0842344718  0 0 0\n",
    "Cu 7.6579664403 0.0000000000 12.0842344718  0 0 0\n",
    "Cu 1.2763277400 2.2106644929 12.0842344718  0 0 0\n",
    "Cu 3.8289832201 2.2106644929 12.0842344718  0 0 0\n",
    "Cu 6.3816387002 2.2106644929 12.0842344718  0 0 0\n",
    "Cu 8.9342941803 2.2106644929 12.0842344718  0 0 0\n",
    "Cu 2.5526554801 4.4213289857 12.0842344718  0 0 0\n",
    "Cu 5.1053109602 4.4213289857 12.0842344718  0 0 0\n",
    "Cu 7.6579664403 4.4213289857 12.0842344718  0 0 0\n",
    "Cu 10.2106219203 4.4213289857 12.0842344718  0 0 0\n",
    "Cu 3.8289832201 6.6319934786 12.0842344718  0 0 0\n",
    "Cu 6.3816387002 6.6319934786 12.0842344718  0 0 0\n",
    "Cu 8.9342941803 6.6319934786 12.0842344718  0 0 0\n",
    "Cu 11.4869496604 6.6319934786 12.0842344718  0 0 0\n",
    "N -0.0000000000 -0.0000000000 14.1420845717 \n",
    "N -0.0000000000 0.0000000000 15.1889909183 \n",
    "\n",
    "\n",
    "```"
   ]
  },
  {
   "cell_type": "markdown",
   "id": "49d19f95",
   "metadata": {},
   "source": [
    "## Visualization\n",
    "1. Simplest method: use the `view()` function which returns a "
   ]
  },
  {
   "cell_type": "code",
   "execution_count": 25,
   "id": "eeada509",
   "metadata": {},
   "outputs": [
    {
     "data": {
      "text/plain": [
       "<Popen: returncode: None args: ['/Users/vinhtran/opt/anaconda3/bin/python', ...>"
      ]
     },
     "execution_count": 25,
     "metadata": {},
     "output_type": "execute_result"
    }
   ],
   "source": [
    "from ase.visualize import view \n",
    "view(slab)"
   ]
  },
  {
   "cell_type": "code",
   "execution_count": null,
   "id": "79408fcc",
   "metadata": {},
   "outputs": [],
   "source": []
  },
  {
   "cell_type": "markdown",
   "id": "a926b2dc",
   "metadata": {},
   "source": [
    "# Atoms and Calculators"
   ]
  },
  {
   "cell_type": "markdown",
   "id": "ab27979e",
   "metadata": {},
   "source": [
    "## Atoms\n",
    "1. Setting up a molecule and running a DFT calculation \n",
    "    - Can create simple molecules by manually typing the chemical symbols and specifying the atoms' positions in Angstrom "
   ]
  },
  {
   "cell_type": "code",
   "execution_count": 28,
   "id": "fc04cfda",
   "metadata": {},
   "outputs": [],
   "source": [
    "from ase import Atoms\n",
    "atoms = Atoms('N2', positions = [[0,0,-1] , [0,0,1]])"
   ]
  },
  {
   "cell_type": "code",
   "execution_count": 29,
   "id": "601e091b",
   "metadata": {},
   "outputs": [],
   "source": [
    "from ase.visualize import view"
   ]
  },
  {
   "cell_type": "code",
   "execution_count": 31,
   "id": "344bc674",
   "metadata": {},
   "outputs": [
    {
     "data": {
      "text/plain": [
       "<Popen: returncode: None args: ['/Users/vinhtran/opt/anaconda3/bin/python', ...>"
      ]
     },
     "execution_count": 31,
     "metadata": {},
     "output_type": "execute_result"
    }
   ],
   "source": [
    "view(atoms)"
   ]
  },
  {
   "cell_type": "code",
   "execution_count": null,
   "id": "6e9b3a34",
   "metadata": {},
   "outputs": [],
   "source": []
  }
 ],
 "metadata": {
  "kernelspec": {
   "display_name": "Python 3 (ipykernel)",
   "language": "python",
   "name": "python3"
  },
  "language_info": {
   "codemirror_mode": {
    "name": "ipython",
    "version": 3
   },
   "file_extension": ".py",
   "mimetype": "text/x-python",
   "name": "python",
   "nbconvert_exporter": "python",
   "pygments_lexer": "ipython3",
   "version": "3.9.7"
  }
 },
 "nbformat": 4,
 "nbformat_minor": 5
}
