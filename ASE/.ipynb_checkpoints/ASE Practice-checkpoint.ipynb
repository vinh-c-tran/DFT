{
 "cells": [
  {
   "cell_type": "code",
   "execution_count": 1,
   "id": "1ef533a4",
   "metadata": {},
   "outputs": [],
   "source": [
    "from ase.build import fcc111"
   ]
  },
  {
   "cell_type": "code",
   "execution_count": 2,
   "id": "5c4201c3",
   "metadata": {},
   "outputs": [],
   "source": [
    "slab = fcc111('Al', size = (2,2,3), vacuum = 10.0)"
   ]
  },
  {
   "cell_type": "code",
   "execution_count": 3,
   "id": "a0915290",
   "metadata": {},
   "outputs": [],
   "source": [
    "from ase.visualize import view"
   ]
  },
  {
   "cell_type": "code",
   "execution_count": 7,
   "id": "dae9e4e1",
   "metadata": {},
   "outputs": [],
   "source": [
    "from ase.io import write"
   ]
  },
  {
   "cell_type": "code",
   "execution_count": 8,
   "id": "909c7444",
   "metadata": {},
   "outputs": [],
   "source": [
    "write('al.cif', slab)"
   ]
  },
  {
   "cell_type": "code",
   "execution_count": 9,
   "id": "cfc5d075",
   "metadata": {},
   "outputs": [
    {
     "data": {
      "text/plain": [
       "Atoms(symbols='Al12', pbc=[True, True, False], cell=[[5.727564927611035, 0.0, 0.0], [2.8637824638055176, 4.960216729135935, 0.0], [0.0, 0.0, 24.676537180435968]], tags=...)"
      ]
     },
     "execution_count": 9,
     "metadata": {},
     "output_type": "execute_result"
    }
   ],
   "source": [
    "slab"
   ]
  },
  {
   "cell_type": "code",
   "execution_count": 10,
   "id": "db77a36c",
   "metadata": {},
   "outputs": [
    {
     "data": {
      "text/plain": [
       "Cell([[5.727564927611035, 0.0, 0.0], [2.8637824638055176, 4.960216729135935, 0.0], [0.0, 0.0, 24.676537180435968]])"
      ]
     },
     "execution_count": 10,
     "metadata": {},
     "output_type": "execute_result"
    }
   ],
   "source": [
    "slab.cell"
   ]
  },
  {
   "cell_type": "code",
   "execution_count": 11,
   "id": "5acd54f9",
   "metadata": {},
   "outputs": [
    {
     "data": {
      "text/plain": [
       "ase.atoms.Atoms"
      ]
     },
     "execution_count": 11,
     "metadata": {},
     "output_type": "execute_result"
    }
   ],
   "source": [
    "type(slab)"
   ]
  },
  {
   "cell_type": "code",
   "execution_count": 12,
   "id": "5361b273",
   "metadata": {},
   "outputs": [
    {
     "data": {
      "text/plain": [
       "array([[ 1.43189123,  0.82670279, 10.        ],\n",
       "       [ 4.2956737 ,  0.82670279, 10.        ],\n",
       "       [ 2.86378246,  3.30681115, 10.        ],\n",
       "       [ 5.72756493,  3.30681115, 10.        ],\n",
       "       [ 0.        ,  1.65340558, 12.33826859],\n",
       "       [ 2.86378246,  1.65340558, 12.33826859],\n",
       "       [ 1.43189123,  4.13351394, 12.33826859],\n",
       "       [ 4.2956737 ,  4.13351394, 12.33826859],\n",
       "       [ 0.        ,  0.        , 14.67653718],\n",
       "       [ 2.86378246,  0.        , 14.67653718],\n",
       "       [ 1.43189123,  2.48010836, 14.67653718],\n",
       "       [ 4.2956737 ,  2.48010836, 14.67653718]])"
      ]
     },
     "execution_count": 12,
     "metadata": {},
     "output_type": "execute_result"
    }
   ],
   "source": [
    "slab.positions"
   ]
  },
  {
   "cell_type": "code",
   "execution_count": 14,
   "id": "feca85bd",
   "metadata": {},
   "outputs": [
    {
     "data": {
      "text/plain": [
       "array([[ 5.72756493,  0.        ,  0.        ],\n",
       "       [ 2.86378246,  4.96021673,  0.        ],\n",
       "       [ 0.        ,  0.        , 24.67653718]])"
      ]
     },
     "execution_count": 14,
     "metadata": {},
     "output_type": "execute_result"
    }
   ],
   "source": [
    "slab.cell[:]"
   ]
  },
  {
   "cell_type": "code",
   "execution_count": 17,
   "id": "4737d5af",
   "metadata": {},
   "outputs": [
    {
     "data": {
      "text/plain": [
       "array([[0.16666667, 0.16666667, 0.40524324],\n",
       "       [0.66666667, 0.16666667, 0.40524324],\n",
       "       [0.16666667, 0.66666667, 0.40524324],\n",
       "       [0.66666667, 0.66666667, 0.40524324],\n",
       "       [0.83333333, 0.33333333, 0.5       ],\n",
       "       [0.33333333, 0.33333333, 0.5       ],\n",
       "       [0.83333333, 0.83333333, 0.5       ],\n",
       "       [0.33333333, 0.83333333, 0.5       ],\n",
       "       [0.        , 0.        , 0.59475676],\n",
       "       [0.5       , 0.        , 0.59475676],\n",
       "       [0.        , 0.5       , 0.59475676],\n",
       "       [0.5       , 0.5       , 0.59475676]])"
      ]
     },
     "execution_count": 17,
     "metadata": {},
     "output_type": "execute_result"
    }
   ],
   "source": [
    "slab.get_scaled_positions()"
   ]
  },
  {
   "cell_type": "code",
   "execution_count": 19,
   "id": "b743632b",
   "metadata": {},
   "outputs": [
    {
     "data": {
      "text/plain": [
       "['Al', 'Al', 'Al', 'Al', 'Al', 'Al', 'Al', 'Al', 'Al', 'Al', 'Al', 'Al']"
      ]
     },
     "execution_count": 19,
     "metadata": {},
     "output_type": "execute_result"
    }
   ],
   "source": [
    "slab.get_chemical_symbols()"
   ]
  },
  {
   "cell_type": "code",
   "execution_count": 42,
   "id": "39465424",
   "metadata": {},
   "outputs": [],
   "source": [
    "def atomic_positions(file, slab):\n",
    "    file.write('ATOMIC_POSITIONS (crystal) \\n')\n",
    "    \n",
    "    names = slab.get_chemical_symbols()\n",
    "    positions = slab.get_scaled_positions() \n",
    "    \n",
    "    for i in range(len(names)):\n",
    "        str_positions = \"\"\n",
    "        for j in range(3):\n",
    "            str_positions += str(positions[i][j]) + \" \"\n",
    "        \n",
    "        file.write(\" \" + names[i] + \" \" + str_positions + \"\\n\")"
   ]
  },
  {
   "cell_type": "code",
   "execution_count": 43,
   "id": "dbd7561b",
   "metadata": {},
   "outputs": [],
   "source": [
    "f = open('test.txt', 'w')\n",
    "\n",
    "atomic_positions(f, slab)\n",
    "\n",
    "f.close()"
   ]
  },
  {
   "cell_type": "code",
   "execution_count": 48,
   "id": "1b7111ea",
   "metadata": {},
   "outputs": [],
   "source": [
    "A=slab.get_cell()[:]"
   ]
  },
  {
   "cell_type": "code",
   "execution_count": 49,
   "id": "665be446",
   "metadata": {},
   "outputs": [
    {
     "data": {
      "text/plain": [
       "array([5.72756493, 0.        , 0.        ])"
      ]
     },
     "execution_count": 49,
     "metadata": {},
     "output_type": "execute_result"
    }
   ],
   "source": [
    "A[0]"
   ]
  },
  {
   "cell_type": "code",
   "execution_count": 50,
   "id": "943af2a0",
   "metadata": {},
   "outputs": [],
   "source": [
    "def crystal_parameters(file, slab):\n",
    "    file.write('CRYSTAL_PARAMETERS (alat)\\n')\n",
    "    \n",
    "    cell = slab.get_cell()[:]\n",
    "    \n",
    "    for i in range(3):\n",
    "        str_lattice = \"\"\n",
    "        for j in range(3):\n",
    "            str_lattice += str(cell[i][j]) + \" \"\n",
    "        \n",
    "        file.write(\" \" + str_lattice + \"\\n\")"
   ]
  },
  {
   "cell_type": "code",
   "execution_count": 51,
   "id": "de07aacf",
   "metadata": {},
   "outputs": [],
   "source": [
    "f = open('test.txt', 'w')\n",
    "\n",
    "crystal_parameters(f, slab)\n",
    "\n",
    "f.close()"
   ]
  },
  {
   "cell_type": "markdown",
   "id": "51d16b62",
   "metadata": {},
   "source": [
    "# Platinum (100)"
   ]
  },
  {
   "cell_type": "code",
   "execution_count": 55,
   "id": "da6bdb69",
   "metadata": {},
   "outputs": [],
   "source": [
    "pt_slab = fcc111('Pt', size = (2,2,3), vacuum = 10.0)"
   ]
  },
  {
   "cell_type": "code",
   "execution_count": 54,
   "id": "312bab95",
   "metadata": {},
   "outputs": [],
   "source": [
    "plat = open('pt.relax.in', 'w')"
   ]
  },
  {
   "cell_type": "code",
   "execution_count": 56,
   "id": "d2f17ef7",
   "metadata": {},
   "outputs": [],
   "source": [
    "atomic_positions(plat, pt_slab)"
   ]
  },
  {
   "cell_type": "code",
   "execution_count": 57,
   "id": "c4271bad",
   "metadata": {},
   "outputs": [],
   "source": [
    "crystal_parameters(plat, pt_slab)"
   ]
  },
  {
   "cell_type": "code",
   "execution_count": 58,
   "id": "3c6de8cd",
   "metadata": {},
   "outputs": [],
   "source": [
    "plat.close()"
   ]
  },
  {
   "cell_type": "code",
   "execution_count": 59,
   "id": "ea7d4da6",
   "metadata": {},
   "outputs": [],
   "source": [
    "write('pt.cif', pt_slab)"
   ]
  },
  {
   "cell_type": "code",
   "execution_count": 66,
   "id": "ec9ab7c3",
   "metadata": {},
   "outputs": [],
   "source": [
    "pt_slab = fcc111('Pt', size = (2,2,1), vacuum = 10.0)"
   ]
  },
  {
   "cell_type": "code",
   "execution_count": 67,
   "id": "eecb8e89",
   "metadata": {},
   "outputs": [],
   "source": [
    "write('pt.cif', pt_slab)"
   ]
  },
  {
   "cell_type": "code",
   "execution_count": null,
   "id": "a454fb5a",
   "metadata": {},
   "outputs": [],
   "source": []
  },
  {
   "cell_type": "markdown",
   "id": "099a0abd",
   "metadata": {},
   "source": [
    "# ASE Tutorials"
   ]
  },
  {
   "cell_type": "markdown",
   "id": "123b6793",
   "metadata": {},
   "source": [
    "## Introduction: Nitrogen on Copper"
   ]
  },
  {
   "cell_type": "code",
   "execution_count": 2,
   "id": "b27cde83",
   "metadata": {},
   "outputs": [],
   "source": [
    "from ase import Atoms\n",
    "from ase.calculators.emt import EMT\n",
    "from ase.constraints import FixAtoms\n",
    "from ase.optimize import QuasiNewton\n",
    "from ase.build import fcc111, add_adsorbate"
   ]
  },
  {
   "cell_type": "markdown",
   "id": "ada9f042",
   "metadata": {},
   "source": [
    "### Atoms\n",
    "Atoms object is a collection of atoms. We can define molecules/structures by specifying the position of two atoms (nitrogen atoms). "
   ]
  },
  {
   "cell_type": "code",
   "execution_count": 4,
   "id": "29022adc",
   "metadata": {},
   "outputs": [],
   "source": [
    "from ase import Atoms"
   ]
  },
  {
   "cell_type": "code",
   "execution_count": 5,
   "id": "798d87f0",
   "metadata": {},
   "outputs": [],
   "source": [
    "d = 1.10 \n",
    "molecule = Atoms('2N', positions = [(0.0, 0.0, 0.0), (0.0, 0.0, d)])"
   ]
  },
  {
   "cell_type": "markdown",
   "id": "ab28fca5",
   "metadata": {},
   "source": [
    "#### Can also build crystals using lattice module with common structures"
   ]
  },
  {
   "cell_type": "code",
   "execution_count": 6,
   "id": "83a492d2",
   "metadata": {},
   "outputs": [],
   "source": [
    "from ase.build import fcc111\n",
    "# fcc111 builds a fcc111 structures"
   ]
  },
  {
   "cell_type": "code",
   "execution_count": null,
   "id": "284525a4",
   "metadata": {},
   "outputs": [],
   "source": []
  },
  {
   "cell_type": "code",
   "execution_count": null,
   "id": "6bd4bae6",
   "metadata": {},
   "outputs": [],
   "source": []
  }
 ],
 "metadata": {
  "kernelspec": {
   "display_name": "Python 3 (ipykernel)",
   "language": "python",
   "name": "python3"
  },
  "language_info": {
   "codemirror_mode": {
    "name": "ipython",
    "version": 3
   },
   "file_extension": ".py",
   "mimetype": "text/x-python",
   "name": "python",
   "nbconvert_exporter": "python",
   "pygments_lexer": "ipython3",
   "version": "3.9.7"
  }
 },
 "nbformat": 4,
 "nbformat_minor": 5
}
